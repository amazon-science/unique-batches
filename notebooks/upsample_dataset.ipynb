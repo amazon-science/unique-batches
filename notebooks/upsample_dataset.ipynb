{
 "cells": [
  {
   "cell_type": "markdown",
   "id": "3e70474b",
   "metadata": {
    "heading_collapsed": true
   },
   "source": [
    "# Imports"
   ]
  },
  {
   "cell_type": "code",
   "execution_count": null,
   "id": "9cd69f0d",
   "metadata": {
    "hidden": true
   },
   "outputs": [],
   "source": [
    "from pathlib import Path\n",
    "import re\n",
    "import pandas as pd\n",
    "\n",
    "import numpy as np\n",
    "import math\n",
    "from scipy.special import binom, comb\n",
    "\n",
    "import plotly.graph_objects as go\n",
    "import plotly.express as px\n",
    "from tqdm.auto import tqdm"
   ]
  },
  {
   "cell_type": "markdown",
   "id": "ce330556",
   "metadata": {
    "heading_collapsed": true
   },
   "source": [
    "# Params"
   ]
  },
  {
   "cell_type": "code",
   "execution_count": null,
   "id": "e3bbb2c2",
   "metadata": {},
   "outputs": [],
   "source": [
    "datastore = Path(\"../datastore/\").absolute()"
   ]
  },
  {
   "cell_type": "code",
   "execution_count": null,
   "id": "9733c6de",
   "metadata": {
    "hidden": true
   },
   "outputs": [],
   "source": [
    "data_path = datastore / 'mit_restaurant' / 'MITrestaurant.tsv'\n",
    "\n",
    "SQUID_INK = 'rgb(8,48,107)'"
   ]
  },
  {
   "cell_type": "markdown",
   "id": "618dd837",
   "metadata": {
    "heading_collapsed": true
   },
   "source": [
    "# Input"
   ]
  },
  {
   "cell_type": "markdown",
   "id": "38ee4290",
   "metadata": {
    "heading_collapsed": true,
    "hidden": true
   },
   "source": [
    "## Reading functions"
   ]
  },
  {
   "cell_type": "code",
   "execution_count": null,
   "id": "a1a63c2e",
   "metadata": {
    "hidden": true
   },
   "outputs": [],
   "source": [
    "def extract_utt_text(utt: str) -> str:\n",
    "    \"\"\"\n",
    "    Params:\n",
    "        utt: string of the shape \"word_1|slot_type_1 ... word_n|slot_type_n\" at inference time\n",
    "             \"word_1|slot_type_1|lang_1 ... word_n|slot_type_n|lang_n\" at training time\n",
    "    \"\"\"\n",
    "    utt_tokens = re.findall(r\"([^ ]+)\\|[^ ]+\", utt)\n",
    "\n",
    "    return \" \".join(utt_tokens)\n",
    "\n",
    "\n",
    "def extract_ner_labels(utt: str) -> list:\n",
    "    \"\"\"\n",
    "    Params:\n",
    "        utt: string of the shape \"word_1|slot_type_1|lang_1 ... word_n|slot_type_n|lang_n\"\n",
    "    \"\"\"\n",
    "    return re.findall(r\"[^ ]+\\|([^ ]+)\", utt)\n",
    "\n",
    "\n",
    "def read_token_level_annotated_data(data_path: str) -> (pd.DataFrame, pd.DataFrame):\n",
    "    \"\"\"\n",
    "    Reads data with token-level language annotation, e.g. \"metti|Other|it musica|MediaType|it\"\n",
    "    and extracts additional columns like utterance_text, ner_labels, language_labels\n",
    "    \"\"\"\n",
    "\n",
    "    columns = get_NLU_tsv_columns(data_path)\n",
    "\n",
    "    data = pd.read_table(data_path, names=columns)\n",
    "\n",
    "    data.dropna(inplace=True)\n",
    "\n",
    "    labels = pd.DataFrame()\n",
    "\n",
    "    labels[\"tags\"] = (\n",
    "        data[\"annotation\"].apply(lambda utt: extract_ner_labels(utt)).values\n",
    "    )\n",
    "\n",
    "    data[\"utterance_text\"] = (\n",
    "        data[\"annotation\"].apply(lambda utt: extract_utt_text(utt)).values\n",
    "    )\n",
    "\n",
    "    return data, labels\n",
    "\n",
    "\n",
    "def get_NLU_tsv_columns(file):\n",
    "    with open(file) as f:\n",
    "        line = f.readline()\n",
    "    num_columns = len(line.split(\"\\t\"))\n",
    "    if num_columns == 1:\n",
    "        return [\"annotation\"]\n",
    "    elif num_columns == 3:\n",
    "        return (\"domain\", \"intent\", \"annotation\")\n",
    "    elif num_columns == 4:\n",
    "        return (\"domain\", \"intent\", \"annotation\", \"customer_id\")\n",
    "    elif num_columns == 5:\n",
    "        return (\"domain\", \"intent\", \"annotation\", \"customer_id\", \"utterance_id\")\n",
    "    else:\n",
    "        raise ValueError(\"Bad .tsv format\")"
   ]
  },
  {
   "cell_type": "markdown",
   "id": "6485d5c2",
   "metadata": {
    "heading_collapsed": true,
    "hidden": true
   },
   "source": [
    "## Reading data"
   ]
  },
  {
   "cell_type": "code",
   "execution_count": null,
   "id": "96ce7333",
   "metadata": {
    "hidden": true
   },
   "outputs": [],
   "source": [
    "data, labels = read_token_level_annotated_data(data_path)\n",
    "\n",
    "print(data)\n",
    "\n",
    "utterances = data['utterance_text'].tolist()\n",
    "utterances = [utterance.split(' ') for utterance in utterances]"
   ]
  },
  {
   "cell_type": "markdown",
   "id": "012ab8c0",
   "metadata": {
    "heading_collapsed": true
   },
   "source": [
    "# Pick distribution"
   ]
  },
  {
   "cell_type": "code",
   "execution_count": null,
   "id": "4f711f55",
   "metadata": {
    "hidden": true
   },
   "outputs": [],
   "source": [
    "def get_unique_utts_count_sorted(df):\n",
    "    grouped_by_utt = df.groupby('utterance_text')\n",
    "    grouped_by_utt_size = grouped_by_utt.size().to_frame('count').reset_index()\n",
    "    grouped_by_utt_size = grouped_by_utt_size.sort_values('count', ascending=False)\n",
    "    return grouped_by_utt_size"
   ]
  },
  {
   "cell_type": "code",
   "execution_count": null,
   "id": "d4fd87be",
   "metadata": {
    "hidden": true
   },
   "outputs": [],
   "source": [
    "def inv_exp(utterance):\n",
    "    return math.exp(-len(utterance))\n",
    "\n",
    "def inv_lin(utterance):\n",
    "    return 1/len(utterance)\n",
    "\n",
    "def inv_lin_squared(utterance):\n",
    "    return 1/len(utterance)**2\n",
    "\n",
    "def inverse_characters_fifth(utterance):\n",
    "    return 1/(sum([len(word) for word in utterance]))**4\n",
    "\n",
    "def inverse_characters_cubic(utterance):\n",
    "    return 1/(sum([len(word) for word in utterance]))**3\n",
    "\n",
    "def inv_lin_cubic(utterance):\n",
    "    return 1/len(utterance)**3\n",
    "\n",
    "def inv_chars_exponential(utterance):\n",
    "    return 1/math.exp(sum([len(word) for word in utterance]))"
   ]
  },
  {
   "cell_type": "code",
   "execution_count": null,
   "id": "18bbc9e1",
   "metadata": {},
   "outputs": [],
   "source": [
    "def plot_utt_distribution(utt_df, measure_name):\n",
    "    \n",
    "    unique_utts_count = get_unique_utts_count_sorted(utt_df)\n",
    "    \n",
    "    index = np.arange(0, len(utt_df))\n",
    "    norm_factor = len(utt_df)\n",
    "    \n",
    "    y_values = unique_utts_count['count'].to_numpy()\n",
    "    y_values = y_values/norm_factor\n",
    "\n",
    "    bar = go.Bar(y=y_values, x=index, )\n",
    "    fig = go.Figure(data=bar)\n",
    "    \n",
    "    fig.update_layout(title=f'Most frequent utterances sampled according {measure_name}')\n",
    "    \n",
    "    fig.update_xaxes(title='Utterances ordered by number of occurrences')\n",
    "    fig.update_yaxes(title='Ratio of the dataset')\n",
    "    fig.update_traces(marker_color=SQUID_INK, marker_line_color=SQUID_INK,\n",
    "                      marker_line_width=1.5)\n",
    "    fig.show()"
   ]
  },
  {
   "cell_type": "code",
   "execution_count": null,
   "id": "78e56426",
   "metadata": {
    "hidden": true
   },
   "outputs": [],
   "source": [
    "measure_dict = { \n",
    "    'inverse exponential': inv_exp, \n",
    "    'inverse cubic linear': inv_lin_cubic,\n",
    "    'inverse character cubic': inverse_characters_cubic,\n",
    "    'inverse character fifth': inverse_characters_fifth,\n",
    "    'inverse exponential characters': inv_chars_exponential,\n",
    "}\n",
    "\n",
    "num_samples = int(1e4)\n",
    "\n",
    "for measure_name, measure in measure_dict.items():\n",
    "    weights_by_length = np.array([measure(utterance) for utterance in utterances])\n",
    "    probs_by_length = weights_by_length / sum(weights_by_length)\n",
    "    \n",
    "    sampled_indices = np.random.choice(list(range(len(data))), num_samples, p=probs_by_length)\n",
    "    sampled_df = data.iloc[sampled_indices]\n",
    "    \n",
    "    plot_utt_distribution(sampled_df, measure_name)"
   ]
  },
  {
   "cell_type": "code",
   "execution_count": null,
   "id": "e7cfb7aa",
   "metadata": {},
   "outputs": [],
   "source": [
    "index = np.arange(1, len(utterances))\n",
    "\n",
    "# y_values = unique_utts_count['count'].to_numpy()\n",
    "y_values = np.array([1/(x) for x in index])\n",
    "\n",
    "bar = go.Bar(y=y_values, x=index, )\n",
    "fig = go.Figure(data=bar)\n",
    "\n",
    "fig.update_layout(title=f'Power law')\n",
    "\n",
    "fig.update_xaxes(title='x')\n",
    "fig.update_yaxes(title='y')\n",
    "fig.update_traces(marker_color=SQUID_INK, marker_line_color=SQUID_INK,\n",
    "                  marker_line_width=1.5)\n",
    "fig.show()"
   ]
  },
  {
   "cell_type": "markdown",
   "id": "a0a9cf63",
   "metadata": {
    "heading_collapsed": true
   },
   "source": [
    "# Duplicated data generation"
   ]
  },
  {
   "attachments": {},
   "cell_type": "markdown",
   "id": "124c4a9e",
   "metadata": {},
   "source": [
    "# Params"
   ]
  },
  {
   "cell_type": "code",
   "execution_count": null,
   "id": "9db9d4c7",
   "metadata": {
    "hidden": true
   },
   "outputs": [],
   "source": [
    "duplication_ratios = [0.50, 0.70, 0.90]"
   ]
  },
  {
   "cell_type": "code",
   "execution_count": null,
   "id": "3ad4c99d",
   "metadata": {
    "hidden": true
   },
   "outputs": [],
   "source": [
    "measures_per_ratio = {0.50: inverse_characters_cubic,  0.70: inverse_characters_cubic, 0.90: inverse_characters_fifth}\n",
    "weights_by_length = {r: np.array([measures_per_ratio[r](utterance) for utterance in utterances]) for r in duplication_ratios}\n",
    "probs_by_length = {r: weights_by_length[r] / sum(weights_by_length[r]) for r in duplication_ratios}"
   ]
  },
  {
   "cell_type": "markdown",
   "id": "c147b008",
   "metadata": {
    "hidden": true
   },
   "source": [
    "## Sampling"
   ]
  },
  {
   "cell_type": "markdown",
   "id": "d2b1da99",
   "metadata": {
    "hidden": true
   },
   "source": [
    "\\begin{align}\n",
    "    \\frac{d}{n + d} &= r \\\\\n",
    "    d &= \\frac{r}{1-r} n\n",
    "\\end{align}"
   ]
  },
  {
   "cell_type": "code",
   "execution_count": null,
   "id": "23c5673c",
   "metadata": {
    "hidden": true
   },
   "outputs": [],
   "source": [
    "num_unique_utts = len(utterances)\n",
    "\n",
    "number_of_duplicates = {r: int((r * num_unique_utts)/(1-r)) for r in duplication_ratios}\n",
    "print(number_of_duplicates)"
   ]
  },
  {
   "cell_type": "code",
   "execution_count": null,
   "id": "6dae56bb",
   "metadata": {
    "hidden": true
   },
   "outputs": [],
   "source": [
    "draws = {r: np.random.choice(data['utterance_text'], number_of_duplicates[r],\n",
    "              p=probs_by_length[r]) for r in duplication_ratios}\n",
    "\n",
    "duplicated_datasets = {r: None for r in duplication_ratios}\n",
    "\n",
    "for r in duplication_ratios:\n",
    "    sampled_df = pd.DataFrame(draws[r], columns=['utterance_text'])\n",
    "    sample_df_complete = pd.merge(sampled_df, data, on='utterance_text')\n",
    "    duplicated_datasets[r] = pd.concat([data, sample_df_complete])"
   ]
  },
  {
   "cell_type": "markdown",
   "id": "56987130",
   "metadata": {
    "heading_collapsed": true
   },
   "source": [
    "# Plot distribution"
   ]
  },
  {
   "cell_type": "code",
   "execution_count": null,
   "id": "8279b7ef",
   "metadata": {
    "hidden": true
   },
   "outputs": [],
   "source": [
    "def plot_sampled_utt_distribution(utt_df, title=''):\n",
    "    \n",
    "    unique_utts_count = get_unique_utts_count_sorted(utt_df)\n",
    "    \n",
    "    norm_factor = len(utt_df)\n",
    "    \n",
    "    y_values = unique_utts_count['count'].to_numpy()/len(utt_df)\n",
    "    x_values = unique_utts_count['utterance_text']\n",
    "\n",
    "    bar = go.Bar(y=y_values[:200], x=x_values[:200])\n",
    "    fig = go.Figure(data=bar)\n",
    "    \n",
    "    fig.update_layout(title=title)\n",
    "    \n",
    "    fig.update_xaxes(title='Utterances ordered by number of occurrences')\n",
    "    fig.update_yaxes(title='Ratio of the dataset')\n",
    "    fig.update_traces(marker_color=SQUID_INK, marker_line_color=SQUID_INK,\n",
    "                      marker_line_width=1.5)\n",
    "    fig.show()"
   ]
  },
  {
   "cell_type": "code",
   "execution_count": null,
   "id": "6a247b33",
   "metadata": {},
   "outputs": [],
   "source": [
    "for r in duplication_ratios:\n",
    "    plot_sampled_utt_distribution(duplicated_datasets[r], title=f'Dataset with duplication ratio {r}')"
   ]
  },
  {
   "cell_type": "code",
   "execution_count": null,
   "id": "44162255",
   "metadata": {
    "hidden": true
   },
   "outputs": [],
   "source": [
    "counter = {}\n",
    "for utterance in utterances:\n",
    "    len_utt = sum([len(word) for word in utterance])\n",
    "    counter[len_utt] = counter.get(len_utt, 0) + 1\n",
    "\n",
    "num_utts_lens = sorted(counter.items(), key=lambda t:t[0])\n",
    "\n",
    "print(num_utts_lens)"
   ]
  },
  {
   "cell_type": "code",
   "execution_count": null,
   "id": "a011e989",
   "metadata": {
    "hidden": true
   },
   "outputs": [],
   "source": [
    "def utt_num_chars(utt):\n",
    "    return sum([len(word) for word in utt])"
   ]
  },
  {
   "cell_type": "code",
   "execution_count": null,
   "id": "0b87ac33",
   "metadata": {},
   "outputs": [],
   "source": [
    "utterances_sorted = sorted(utterances, key=lambda ut:utt_num_chars(ut))\n",
    "print(utterances_sorted[:10])"
   ]
  },
  {
   "cell_type": "code",
   "execution_count": null,
   "id": "ace9c42a",
   "metadata": {},
   "outputs": [],
   "source": [
    "weights_by_length = np.array([1/utt_num_chars(utterance)**3 for utterance in utterances_sorted])\n",
    "\n",
    "print(weights_by_length)"
   ]
  },
  {
   "cell_type": "code",
   "execution_count": null,
   "id": "ef06f484",
   "metadata": {},
   "outputs": [],
   "source": [
    "y_values = weights_by_length\n",
    "x_values = np.arange(0, len(utterances))\n",
    "\n",
    "bar = go.Bar(y=y_values[:200], x=x_values[:200])\n",
    "fig = go.Figure(data=bar)\n",
    "\n",
    "\n",
    "fig.update_xaxes(title='Utterances sorted by length')\n",
    "fig.update_yaxes(title='Weight')\n",
    "fig.update_traces(marker_color=SQUID_INK, marker_line_color=SQUID_INK,\n",
    "                  marker_line_width=1.5)\n",
    "fig.show()"
   ]
  },
  {
   "cell_type": "markdown",
   "id": "7e82870f",
   "metadata": {
    "heading_collapsed": true
   },
   "source": [
    "# Save"
   ]
  },
  {
   "cell_type": "code",
   "execution_count": null,
   "id": "82a518f4",
   "metadata": {},
   "outputs": [],
   "source": [
    "datastore = Path(\"../datastore/\").absolute()"
   ]
  },
  {
   "cell_type": "code",
   "execution_count": null,
   "id": "2220cbeb",
   "metadata": {
    "hidden": true
   },
   "outputs": [],
   "source": [
    "for r in duplication_ratios:\n",
    "    output_path = datastore / \"mit_restaurant\" / f\"duplicated_{r}.tsv\"\n",
    "    df = duplicated_datasets[r][[\"domain\", \"intent\", \"annotation\"]]\n",
    "    df = df.sample(frac=1).reset_index(drop=True)\n",
    "\n",
    "    df.to_csv(output_path, sep=\"\\t\", index=False, header=False)"
   ]
  },
  {
   "attachments": {},
   "cell_type": "markdown",
   "id": "2d127215",
   "metadata": {},
   "source": [
    "# Test"
   ]
  },
  {
   "cell_type": "code",
   "execution_count": null,
   "id": "a0c4e434",
   "metadata": {},
   "outputs": [],
   "source": [
    "mit_05_df, _ = read_token_level_annotated_data(datastore / \"mit_restaurant\" / \"duplicated_0.5.tsv\")\n"
   ]
  },
  {
   "cell_type": "code",
   "execution_count": null,
   "id": "2e95db09",
   "metadata": {},
   "outputs": [],
   "source": [
    "mit_07_df, _ = read_token_level_annotated_data(datastore / \"mit_restaurant\" / \"duplicated_0.7.tsv\")"
   ]
  },
  {
   "cell_type": "code",
   "execution_count": null,
   "id": "edd4f54c",
   "metadata": {},
   "outputs": [],
   "source": [
    "mit_09_df, _ = read_token_level_annotated_data(datastore / \"mit_restaurant\" / \"duplicated_0.9.tsv\")"
   ]
  },
  {
   "cell_type": "code",
   "execution_count": null,
   "id": "68195c53",
   "metadata": {},
   "outputs": [],
   "source": [
    "def compute_redundancy(df: pd.DataFrame, col: str = \"utterance_text\"):\n",
    "    grouped_by_utt = df.groupby(col)\n",
    "    grouped_by_utt_size = grouped_by_utt.size().to_frame(\"count\").reset_index()\n",
    "\n",
    "    num_unique_utterances = len(grouped_by_utt_size)\n",
    "    num_utterances = len(df)\n",
    "\n",
    "    redundancy = (num_utterances - num_unique_utterances) / num_utterances\n",
    "\n",
    "    return redundancy"
   ]
  },
  {
   "cell_type": "code",
   "execution_count": null,
   "id": "bdea617f",
   "metadata": {},
   "outputs": [],
   "source": [
    "compute_redundancy(mit_05_df)"
   ]
  },
  {
   "cell_type": "code",
   "execution_count": null,
   "id": "eab80565",
   "metadata": {},
   "outputs": [],
   "source": [
    "compute_redundancy(mit_07_df)"
   ]
  },
  {
   "cell_type": "code",
   "execution_count": null,
   "id": "8d893bff",
   "metadata": {},
   "outputs": [],
   "source": [
    "compute_redundancy(mit_09_df)"
   ]
  },
  {
   "cell_type": "code",
   "execution_count": null,
   "id": "efbfdc24",
   "metadata": {},
   "outputs": [],
   "source": []
  }
 ],
 "metadata": {
  "kernelspec": {
   "display_name": ".venv",
   "language": "python",
   "name": "python3"
  },
  "language_info": {
   "codemirror_mode": {
    "name": "ipython",
    "version": 3
   },
   "file_extension": ".py",
   "mimetype": "text/x-python",
   "name": "python",
   "nbconvert_exporter": "python",
   "pygments_lexer": "ipython3",
   "version": "3.7.15 (default, Oct 31 2022, 22:44:31) \n[GCC 7.3.1 20180712 (Red Hat 7.3.1-15)]"
  },
  "toc": {
   "base_numbering": 1,
   "nav_menu": {},
   "number_sections": true,
   "sideBar": true,
   "skip_h1_title": false,
   "title_cell": "Table of Contents",
   "title_sidebar": "Contents",
   "toc_cell": false,
   "toc_position": {},
   "toc_section_display": true,
   "toc_window_display": false
  },
  "vscode": {
   "interpreter": {
    "hash": "463536a7dbcfe402038e4b352f5ebb9cfc71c678d0398d8eda1ae1fbc865770d"
   }
  }
 },
 "nbformat": 4,
 "nbformat_minor": 5
}
