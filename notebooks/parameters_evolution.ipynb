{
 "cells": [
  {
   "cell_type": "markdown",
   "metadata": {},
   "source": [
    "# Visualize trajectories in parameter space"
   ]
  },
  {
   "cell_type": "markdown",
   "metadata": {},
   "source": [
    "## Setup"
   ]
  },
  {
   "cell_type": "code",
   "execution_count": null,
   "metadata": {},
   "outputs": [],
   "source": [
    "from typing import Dict, List\n",
    "from pathlib import Path\n",
    "import json\n",
    "\n",
    "import math\n",
    "import numpy as np\n",
    "import torch\n",
    "from sklearn.manifold import TSNE\n",
    "from sklearn.decomposition import PCA, TruncatedSVD, IncrementalPCA\n",
    "\n",
    "import matplotlib.pyplot as plt\n",
    "import matplotlib.cm as cm\n",
    "import seaborn as sns\n",
    "\n",
    "from tqdm.auto import tqdm"
   ]
  },
  {
   "cell_type": "markdown",
   "metadata": {},
   "source": [
    "## Load trajectories"
   ]
  },
  {
   "cell_type": "code",
   "execution_count": null,
   "metadata": {},
   "outputs": [],
   "source": [
    "experiments_root = Path(\"../experiments\").resolve()"
   ]
  },
  {
   "cell_type": "code",
   "execution_count": null,
   "metadata": {},
   "outputs": [],
   "source": [
    "dataset = \"duplicated_0.5\"\n",
    "experiment = \"parameters_evolution\"\n",
    "# experiment = \"parameter_evolution_128\"\n",
    "# experiment = \"parameter_evolution_256\"\n",
    "\n",
    "model = \"bert_based\"\n",
    "# model = \"lstm_based\"\n",
    "\n",
    "experiments_dir = experiments_root / f\"{dataset}/{experiment}\"\n",
    "\n",
    "params_per_epoch = 2"
   ]
  },
  {
   "cell_type": "code",
   "execution_count": null,
   "metadata": {},
   "outputs": [],
   "source": [
    "!ls $experiments_dir"
   ]
  },
  {
   "cell_type": "code",
   "execution_count": null,
   "metadata": {},
   "outputs": [],
   "source": [
    "experiments_dirs = {\n",
    "    subdir.name: subdir for subdir in experiments_dir.iterdir()\n",
    "}"
   ]
  },
  {
   "cell_type": "code",
   "execution_count": null,
   "metadata": {},
   "outputs": [],
   "source": [
    "experiments_dirs"
   ]
  },
  {
   "cell_type": "code",
   "execution_count": null,
   "metadata": {},
   "outputs": [],
   "source": [
    "# def load_epoch_param(experiment_path: Path, epoch: int = 0) -> torch.Tensor:\n",
    "\n",
    "#     # Find paths to .pt files\n",
    "#     pt_files = [path for path in experiment_path.iterdir() if path.name.startswith(\"param\") and path.suffix == \".pt\"]\n",
    "    \n",
    "#     # Sort them in increasing order of epochs\n",
    "#     pt_files.sort(key=lambda s: int(s.stem.split(\"_\")[-1]))\n",
    "\n",
    "#     # Load tensors from pt files\n",
    "#     tensors = []\n",
    "\n",
    "#     for path in pt_files:\n",
    "#         if f\"epoch_{epoch}\" not in path.name:\n",
    "#             continue\n",
    "        \n",
    "#         print(path)\n",
    "#         t = torch.load(path)\n",
    "        \n",
    "#         if t.dim() < 2:\n",
    "#             t = t.unsqueeze(0)\n",
    "        \n",
    "# #         if \"logarithmic\" in experiment_path.name and \"0\" in path.name:\n",
    "# #             t = t[:-1, :]\n",
    "        \n",
    "#         tensors.append(t)\n",
    "\n",
    "#     # Stack tensors\n",
    "#     trajectory = torch.cat(tensors, dim=0)\n",
    "\n",
    "#     return trajectory"
   ]
  },
  {
   "cell_type": "code",
   "execution_count": null,
   "metadata": {},
   "outputs": [],
   "source": [
    "def load_trajectory(experiment_path: Path) -> torch.Tensor:\n",
    "\n",
    "    # Find paths to .pt files\n",
    "    pt_files = [path for path in experiment_path.iterdir() if path.name.startswith(\"param\") and path.suffix == \".pt\"]\n",
    "    \n",
    "    # Sort them in increasing order of epochs\n",
    "    pt_files.sort(key=lambda s: int(s.stem.split(\"_\")[-1]))\n",
    "\n",
    "    # Load tensors from pt files\n",
    "    tensors = []\n",
    "\n",
    "    for path in pt_files:\n",
    "        print(path)\n",
    "        t = torch.load(path)\n",
    "        \n",
    "        \n",
    "        if t.dim() < 2:\n",
    "            t = t.unsqueeze(0)\n",
    "        \n",
    "#         if \"logarithmic\" in experiment_path.name and \"0\" in path.name:\n",
    "#             t = t[:-1, :]\n",
    "    \n",
    "        # Keep only params_per_epoch tensors\n",
    "        increment = max(1, math.ceil(len(t) / params_per_epoch))\n",
    "        for i, ti in enumerate(t):\n",
    "            if i % increment == 0:\n",
    "                tensors.append(ti)\n",
    "        \n",
    "        \n",
    "    # Stack tensors\n",
    "    trajectory = torch.stack(tensors, dim=0)\n",
    "\n",
    "    return trajectory"
   ]
  },
  {
   "cell_type": "code",
   "execution_count": null,
   "metadata": {},
   "outputs": [],
   "source": [
    "trajectories: Dict[str, torch.Tensor] = dict()\n",
    "\n",
    "for deduplicator, experiment_dir in experiments_dirs.items():\n",
    "    print(deduplicator)\n",
    "    \n",
    "    trajectory = load_trajectory(experiment_dir / model)\n",
    "    trajectories[deduplicator] = trajectory\n",
    "    \n",
    "    print()"
   ]
  },
  {
   "cell_type": "code",
   "execution_count": null,
   "metadata": {},
   "outputs": [],
   "source": [
    "for k, traj in trajectories.items():\n",
    "    print(k)\n",
    "    print(traj.shape)"
   ]
  },
  {
   "cell_type": "code",
   "execution_count": null,
   "metadata": {},
   "outputs": [],
   "source": [
    "baseline = trajectories['dummy']\n",
    "\n",
    "deduplicators = [k for k in trajectories.keys() if k != \"dummy\"]"
   ]
  },
  {
   "cell_type": "markdown",
   "metadata": {},
   "source": [
    "## Compute final distance"
   ]
  },
  {
   "cell_type": "code",
   "execution_count": null,
   "metadata": {},
   "outputs": [],
   "source": [
    "final_distances: Dict[str, float] = dict()\n",
    "\n",
    "for deduplicator in deduplicators:\n",
    "    trajectory = trajectories[deduplicator]\n",
    "    \n",
    "    final_vector = trajectory[-1]\n",
    "    final_baseline_vector = baseline[-1]\n",
    "\n",
    "    distance_from_baseline = torch.norm(final_vector - final_baseline_vector).item()\n",
    "\n",
    "    final_distances[deduplicator] = distance_from_baseline"
   ]
  },
  {
   "cell_type": "code",
   "execution_count": null,
   "metadata": {},
   "outputs": [],
   "source": [
    "final_distances"
   ]
  },
  {
   "cell_type": "code",
   "execution_count": null,
   "metadata": {},
   "outputs": [],
   "source": [
    "final_distances_path = Path(f\"./{experiment}/{model}/final_distances.json\")\n",
    "\n",
    "final_distances_path.parent.mkdir(parents=True, exist_ok=True)\n",
    "final_distances_path.write_text(json.dumps(final_distances, indent=4))"
   ]
  },
  {
   "cell_type": "markdown",
   "metadata": {},
   "source": [
    "## Compute trajectory distance"
   ]
  },
  {
   "cell_type": "code",
   "execution_count": null,
   "metadata": {},
   "outputs": [],
   "source": [
    "def compute_distance(trajectory_a: torch.Tensor, trajectory_b: torch.Tensor) -> float:\n",
    "    \"\"\"Computes the distance between two trajectories, intended as the mean point-to-point distance\n",
    "    between corresponding points along the two trajectories.\n",
    "\n",
    "    ASSUMPTION: the two trajectories contain the same number of points \n",
    "    ASSUMPTION: the space under consideration is Euclidean, or in any case Euclidean distance in meaningful\n",
    "\n",
    "    Args:\n",
    "        trajectory_a (torch.Tensor): float tensor of shape [num_points, dim]\n",
    "        trajectory_b (torch.Tensor): float tensor of shape [num_points, dim]\n",
    "\n",
    "    Returns:\n",
    "        float: mean point-to-point distance\n",
    "    \"\"\"\n",
    "\n",
    "    # [num_points,]\n",
    "    distances = torch.nn.functional.pairwise_distance(trajectory_a, trajectory_b, p=2)\n",
    "\n",
    "    # float\n",
    "    distance = distances.mean().item()\n",
    "\n",
    "    return distance"
   ]
  },
  {
   "cell_type": "code",
   "execution_count": null,
   "metadata": {},
   "outputs": [],
   "source": [
    "trajectory_distances: Dict[str, float] = dict()\n",
    "\n",
    "for deduplicator in deduplicators:\n",
    "    print(deduplicator)\n",
    "    trajectory = trajectories[deduplicator]\n",
    "\n",
    "    distance_from_baseline = compute_distance(\n",
    "        trajectory_a=trajectory, \n",
    "        trajectory_b=baseline\n",
    "    )\n",
    "\n",
    "    trajectory_distances[deduplicator] = distance_from_baseline"
   ]
  },
  {
   "cell_type": "code",
   "execution_count": null,
   "metadata": {},
   "outputs": [],
   "source": [
    "trajectory_distances"
   ]
  },
  {
   "cell_type": "code",
   "execution_count": null,
   "metadata": {},
   "outputs": [],
   "source": [
    "trajectory_distances_path = Path(f\"./{experiment}/{model}/trajectory_distances.json\")\n",
    "\n",
    "trajectory_distances_path.write_text(json.dumps(trajectory_distances, indent=4))"
   ]
  },
  {
   "cell_type": "code",
   "execution_count": null,
   "metadata": {},
   "outputs": [],
   "source": [
    "initial_distances: Dict[str, float] = dict()\n",
    "\n",
    "for deduplicator in deduplicators:\n",
    "    trajectory = trajectories[deduplicator]\n",
    "\n",
    "    distance_from_baseline = torch.norm(baseline[0, :] - trajectory[0, :])\n",
    "\n",
    "    initial_distances[deduplicator] = distance_from_baseline"
   ]
  },
  {
   "cell_type": "code",
   "execution_count": null,
   "metadata": {},
   "outputs": [],
   "source": [
    "initial_distances"
   ]
  },
  {
   "cell_type": "markdown",
   "metadata": {},
   "source": [
    "## Project to 2D"
   ]
  },
  {
   "cell_type": "code",
   "execution_count": null,
   "metadata": {},
   "outputs": [],
   "source": [
    "tsne_seed = 0"
   ]
  },
  {
   "cell_type": "code",
   "execution_count": null,
   "metadata": {},
   "outputs": [],
   "source": [
    "num_points_per_deduplicator = baseline.shape[0]\n",
    "tot_num_points = len(trajectories) * baseline.shape[0]\n",
    "\n",
    "dim = baseline.shape[1]\n",
    "\n",
    "X = torch.empty(tot_num_points, dim)"
   ]
  },
  {
   "cell_type": "code",
   "execution_count": null,
   "metadata": {},
   "outputs": [],
   "source": [
    "deduplicator_names: List[str] = [\"dummy\"] + deduplicators"
   ]
  },
  {
   "cell_type": "code",
   "execution_count": null,
   "metadata": {},
   "outputs": [],
   "source": [
    "inc = num_points_per_deduplicator\n",
    "start = 0\n",
    "\n",
    "for l in deduplicator_names:\n",
    "    traj = trajectories[l]\n",
    "    \n",
    "    end = start + inc\n",
    "    \n",
    "    X[start:end, :] = traj\n",
    "    \n",
    "    start += inc"
   ]
  },
  {
   "cell_type": "code",
   "execution_count": null,
   "metadata": {},
   "outputs": [],
   "source": [
    "X.shape"
   ]
  },
  {
   "cell_type": "code",
   "execution_count": null,
   "metadata": {},
   "outputs": [],
   "source": [
    "# def cuPCA(A: torch.Tensor, n_components: int, random_state=0):\n",
    "#     np.random.seed(random_state)\n",
    "#     torch.manual_seed(random_state)\n",
    "    \n",
    "#     A = A.cuda()\n",
    "    \n",
    "#     U, S, V = torch.pca_lowrank(A, q=n_components)\n",
    "    \n",
    "#     proj = torch.matmul(A, V[:, :n_components])\n",
    "    \n",
    "#     proj = proj.cpu()\n",
    "    \n",
    "#     return proj"
   ]
  },
  {
   "cell_type": "code",
   "execution_count": null,
   "metadata": {},
   "outputs": [],
   "source": [
    "# X_ = PCA(n_components=min(50, X.shape[0]), random_state=tsne_seed).fit_transform(X)"
   ]
  },
  {
   "cell_type": "code",
   "execution_count": null,
   "metadata": {},
   "outputs": [],
   "source": [
    "# X_baseline = X[:baseline.shape[0], :].clone()\n",
    "# X_baseline = X_baseline.to('cuda:4')\n",
    "\n",
    "# n_components = min(50, X_baseline.shape[0])\n",
    "# U, S, V = torch.pca_lowrank(X_baseline, q=n_components)\n",
    "# V = V.cpu()\n",
    "\n",
    "# X_ = torch.matmul(X_, V)"
   ]
  },
  {
   "cell_type": "code",
   "execution_count": null,
   "metadata": {},
   "outputs": [],
   "source": [
    "X_ = TruncatedSVD(n_components=min(50, X.shape[0]), random_state=tsne_seed).fit_transform(X)"
   ]
  },
  {
   "cell_type": "code",
   "execution_count": null,
   "metadata": {},
   "outputs": [],
   "source": [
    "# X_ = IncrementalPCA(n_components=min(50, X.shape[0]), batch_size=min(50, X.shape[0])).fit_transform(X)"
   ]
  },
  {
   "cell_type": "code",
   "execution_count": null,
   "metadata": {},
   "outputs": [],
   "source": [
    "X_path = f\"./{experiment}/{model}/X_.pt\""
   ]
  },
  {
   "cell_type": "code",
   "execution_count": null,
   "metadata": {},
   "outputs": [],
   "source": [
    "torch.save(X_, X_path)"
   ]
  },
  {
   "cell_type": "code",
   "execution_count": null,
   "metadata": {},
   "outputs": [],
   "source": [
    "X_ = torch.load(X_path)"
   ]
  },
  {
   "cell_type": "code",
   "execution_count": null,
   "metadata": {},
   "outputs": [],
   "source": [
    "X_2d = dict()\n",
    "perplexities = [5, 30, 50, 100]"
   ]
  },
  {
   "cell_type": "code",
   "execution_count": null,
   "metadata": {},
   "outputs": [],
   "source": [
    "X_2d['pca'] = PCA(n_components=2, random_state=tsne_seed).fit_transform(X_)\n",
    "\n",
    "for perplexity in perplexities:\n",
    "    tsne = TSNE(perplexity=perplexity, random_state=tsne_seed, init='pca', learning_rate='auto')\n",
    "    X_2d[perplexity] = tsne.fit_transform(X_)"
   ]
  },
  {
   "cell_type": "code",
   "execution_count": null,
   "metadata": {},
   "outputs": [],
   "source": []
  },
  {
   "cell_type": "markdown",
   "metadata": {},
   "source": [
    "## Visualize"
   ]
  },
  {
   "cell_type": "code",
   "execution_count": null,
   "metadata": {},
   "outputs": [],
   "source": [
    "sns.set_style(\"dark\")\n",
    "# sns.reset_orig()\n",
    "\n",
    "# colormap = cm.jet\n",
    "colormap = cm.tab10\n",
    "\n",
    "plt_params = {\n",
    "    'quiver': {\n",
    "        'width': 0.002,\n",
    "        'headwidth': 3,\n",
    "        'headlength': 5,\n",
    "    },\n",
    "    'scatter': {\n",
    "        's_star': 2**8,\n",
    "        's_quad': 2**7,\n",
    "    }\n",
    "}\n",
    "\n",
    "tick_params = {\n",
    "    'axis':'both',       \n",
    "    'which':'both',      \n",
    "    'bottom':False,      \n",
    "    'top':False,       \n",
    "    'bottom':False,       \n",
    "    'left':False,       \n",
    "    'right':False,         \n",
    "    'labelbottom':False, \n",
    "    'labeltop':False, \n",
    "    'labelleft':False,\n",
    "    'labelright':False, \n",
    "}"
   ]
  },
  {
   "cell_type": "code",
   "execution_count": null,
   "metadata": {},
   "outputs": [],
   "source": [
    "def draw_trajectories(points_2d, labels, path=None):\n",
    "    \n",
    "    fig, ax = plt.subplots(figsize=(16, 9))\n",
    "    \n",
    "    colors = [colormap(x) for x in np.linspace(0, 1, num=len(labels))]\n",
    "\n",
    "    num_points = points_2d.shape[0]\n",
    "    inc = num_points // len(labels)\n",
    "\n",
    "    start = 0\n",
    "\n",
    "    for i, label in enumerate(labels):\n",
    "        end = start + inc\n",
    "\n",
    "        xx = points_2d[start:end-1, 0]\n",
    "        yy = points_2d[start:end-1, 1]\n",
    "\n",
    "        xx_ = points_2d[start+1:end, 0]\n",
    "        yy_ = points_2d[start+1:end, 1]\n",
    "\n",
    "        uu = xx_ - xx\n",
    "        vv = yy_ - yy\n",
    "\n",
    "        start += inc\n",
    "\n",
    "        ax.scatter(xx[0], yy[0], marker=\"D\", color=colors[i], edgecolors='black', s=plt_params['scatter']['s_quad'])\n",
    "\n",
    "        ax.quiver(xx, yy, uu, vv, label=label, color=colors[i], \n",
    "                    angles='xy', scale_units='xy', scale=1, \n",
    "                    width=plt_params['quiver']['width'], \n",
    "                    headwidth=plt_params['quiver']['headwidth'], \n",
    "                    headlength=plt_params['quiver']['headlength'],\n",
    "                 )\n",
    "\n",
    "        ax.scatter(xx_[-1], yy_[-1], marker=\"*\", color=colors[i], edgecolors='black', s=plt_params['scatter']['s_star'])\n",
    "        ax.tick_params(**tick_params)\n",
    "\n",
    "    plt.legend()\n",
    "    \n",
    "    fig.tight_layout()\n",
    "    \n",
    "    if path:\n",
    "        plt.savefig(path)\n",
    "    \n",
    "    plt.show()"
   ]
  },
  {
   "cell_type": "markdown",
   "metadata": {},
   "source": [
    "### PCA only"
   ]
  },
  {
   "cell_type": "code",
   "execution_count": null,
   "metadata": {},
   "outputs": [],
   "source": [
    "points_2d = X_2d['pca']\n",
    "\n",
    "\n",
    "draw_trajectories(X_2d['pca'], deduplicator_names, f\"./{experiment}/{model}/pca.png\")"
   ]
  },
  {
   "cell_type": "markdown",
   "metadata": {},
   "source": [
    "### T-sne"
   ]
  },
  {
   "cell_type": "code",
   "execution_count": null,
   "metadata": {},
   "outputs": [],
   "source": [
    "perplexity = perplexities[0]\n",
    "\n",
    "print(\"T-sne with perplexity:\", perplexity)\n",
    "\n",
    "points_2d = X_2d[perplexity]\n",
    "\n",
    "draw_trajectories(X_2d[perplexity], deduplicator_names, f\"./{experiment}/{model}/tsne_{perplexity}.png\")"
   ]
  },
  {
   "cell_type": "code",
   "execution_count": null,
   "metadata": {},
   "outputs": [],
   "source": [
    "perplexity = perplexities[1]\n",
    "\n",
    "print(\"T-sne with perplexity:\", perplexity)\n",
    "\n",
    "points_2d = X_2d[perplexity]\n",
    "\n",
    "draw_trajectories(X_2d[perplexity], deduplicator_names, f\"./{experiment}/{model}/tsne_{perplexity}.png\")"
   ]
  },
  {
   "cell_type": "code",
   "execution_count": null,
   "metadata": {},
   "outputs": [],
   "source": [
    "perplexity = perplexities[2]\n",
    "\n",
    "print(\"T-sne with perplexity:\", perplexity)\n",
    "\n",
    "points_2d = X_2d[perplexity]\n",
    "\n",
    "draw_trajectories(X_2d[perplexity], deduplicator_names, f\"./{experiment}/{model}/tsne_{perplexity}.png\")"
   ]
  },
  {
   "cell_type": "code",
   "execution_count": null,
   "metadata": {},
   "outputs": [],
   "source": [
    "perplexity = perplexities[3]\n",
    "\n",
    "print(\"T-sne with perplexity:\", perplexity)\n",
    "\n",
    "points_2d = X_2d[perplexity]\n",
    "\n",
    "draw_trajectories(X_2d[perplexity], deduplicator_names, f\"./{experiment}/{model}/tsne_{perplexity}.png\")"
   ]
  },
  {
   "cell_type": "code",
   "execution_count": null,
   "metadata": {},
   "outputs": [],
   "source": []
  },
  {
   "cell_type": "code",
   "execution_count": null,
   "metadata": {},
   "outputs": [],
   "source": []
  },
  {
   "cell_type": "code",
   "execution_count": null,
   "metadata": {},
   "outputs": [],
   "source": []
  }
 ],
 "metadata": {
  "kernelspec": {
   "display_name": ".venv",
   "language": "python",
   "name": "python3"
  },
  "language_info": {
   "codemirror_mode": {
    "name": "ipython",
    "version": 3
   },
   "file_extension": ".py",
   "mimetype": "text/x-python",
   "name": "python",
   "nbconvert_exporter": "python",
   "pygments_lexer": "ipython3",
   "version": "3.7.15 (default, Oct 31 2022, 22:44:31) \n[GCC 7.3.1 20180712 (Red Hat 7.3.1-15)]"
  },
  "vscode": {
   "interpreter": {
    "hash": "463536a7dbcfe402038e4b352f5ebb9cfc71c678d0398d8eda1ae1fbc865770d"
   }
  }
 },
 "nbformat": 4,
 "nbformat_minor": 2
}
